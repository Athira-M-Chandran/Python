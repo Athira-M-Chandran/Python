{
 "cells": [
  {
   "cell_type": "code",
   "execution_count": 1,
   "id": "cd244a1f",
   "metadata": {},
   "outputs": [
    {
     "name": "stdout",
     "output_type": "stream",
     "text": [
      "_ pp_ e\n"
     ]
    }
   ],
   "source": [
    "import random\n",
    "import string\n",
    "\n",
    "def get_guessed_word(secret_word, letters_guessed):\n",
    "     \n",
    "#     code here\n",
    "    guessed_word =''\n",
    "    for i in secret_word:\n",
    "        if i in letters_guessed:\n",
    "            guessed_word = guessed_word + i\n",
    "        else:\n",
    "            guessed_word = guessed_word + \"_ \"\n",
    "    return guessed_word\n",
    "\n",
    "secret_word = 'apple'\n",
    "letters_guessed = ['e', 'i', 'k', 'p', 'r', 's']\n",
    "print(get_guessed_word(secret_word, letters_guessed))"
   ]
  },
  {
   "cell_type": "code",
   "execution_count": 2,
   "id": "b2cdf4e1",
   "metadata": {},
   "outputs": [
    {
     "name": "stdout",
     "output_type": "stream",
     "text": [
      "bcdefghijknopqrstuvwxyz\n"
     ]
    }
   ],
   "source": [
    "def get_available_letters(letters_guessed):\n",
    "    '''\n",
    "    letters_guessed: list (of letters), which letters have been guessed so far\n",
    "    returns: string (of letters), comprised of letters that represents which letters have not\n",
    "      yet been guessed.\n",
    "    '''\n",
    "    # FILL IN YOUR CODE HERE \n",
    "    available_letters = ''\n",
    "    string_lower = string.ascii_lowercase\n",
    "    for i in string_lower:\n",
    "        if i not in letters_guessed:\n",
    "            available_letters = available_letters + i\n",
    "    return available_letters\n",
    "\n",
    "letters_guessed =['a','l','m']\n",
    "print(get_available_letters(letters_guessed))\n",
    "            "
   ]
  },
  {
   "cell_type": "code",
   "execution_count": 3,
   "id": "8b400a12",
   "metadata": {},
   "outputs": [],
   "source": [
    "def no_of_unique_words(string):            # to calculate the score of this game\n",
    "    \n",
    "    secret_word_add =''\n",
    "    count = 0\n",
    "    \n",
    "    for i in string:\n",
    "        if i not in secret_word_add:        # to find unique letters\n",
    "            secret_word_add = secret_word_add + i\n",
    "            count = count+1\n",
    "    \n",
    "    return count        # return count of non repeating letters\n",
    "\n",
    "   \n",
    "def hangman(secret_word):\n",
    "    \n",
    "    guess =6\n",
    "    guess_word =''\n",
    "    letters_guessed =''\n",
    "    \n",
    "    print(f\"Welcome to the game Hangman!\\nI am thinking of a word that is {len(secret_word)} letters long.\")\n",
    "    \n",
    "    while True:\n",
    "        \n",
    "        print(\"-----------------------------------\")\n",
    "        print(f\"\\nYou have {guess} guesses left.\")\n",
    "        print(\"Available letters: \",end ='')\n",
    "        print(get_available_letters(letters_guessed))\n",
    "        guess_letter = input(\"Please guess a letter: \")\n",
    "        guess_letter = guess_letter.lower()\n",
    "        \n",
    "        if guess_letter in letters_guessed:\n",
    "            print(\"You've already guessed that letter\")\n",
    "                \n",
    "        else:\n",
    "            \n",
    "            letters_guessed = letters_guessed + guess_letter\n",
    "            \n",
    "            if guess_letter in secret_word:\n",
    "                print(\"Good guess : \", end ='')\n",
    "                guess_word = get_guessed_word(secret_word, letters_guessed)\n",
    "                print(guess_word)\n",
    "        \n",
    "                if guess_word == secret_word:\n",
    "                    print(\"-----------------------------------\")\n",
    "                    print(\"Congratulations, you won!\")\n",
    "                    total_score = (guess-1) * no_of_unique_words(secret_word)\n",
    "                    print(f\"Your total score for this game is: {total_score}\")\n",
    "                    break\n",
    "                \n",
    "            else:\n",
    "                if guess_letter in ['a','e','i','o','u']:\n",
    "                    guess = guess - 2\n",
    "                    print(\"Oops! That letter is not in my word :\", guess_word)\n",
    "                    \n",
    "                else:\n",
    "                    guess= guess-1\n",
    "                    print(\"Oops! That letter is not in my word : \", guess_word )\n",
    "        \n",
    "        if guess <= 0:\n",
    "            print(\"-----------------------------------\")\n",
    "            print(\"Sorry, you ran out of guesses. The word was \", secret_word)\n",
    "            break"
   ]
  },
  {
   "cell_type": "code",
   "execution_count": 4,
   "id": "0c350f5e",
   "metadata": {},
   "outputs": [
    {
     "name": "stdout",
     "output_type": "stream",
     "text": [
      "Welcome to the game Hangman!\n",
      "I am thinking of a word that is 5 letters long.\n",
      "-----------------------------------\n",
      "\n",
      "You have 6 guesses left.\n",
      "Available letters: abcdefghijklmnopqrstuvwxyz\n",
      "Please guess a letter: l\n",
      "Good guess : _ _ _ l_ \n",
      "-----------------------------------\n",
      "\n",
      "You have 6 guesses left.\n",
      "Available letters: abcdefghijkmnopqrstuvwxyz\n",
      "Please guess a letter: j\n",
      "Oops! That letter is not in my word :  _ _ _ l_ \n",
      "-----------------------------------\n",
      "\n",
      "You have 5 guesses left.\n",
      "Available letters: abcdefghikmnopqrstuvwxyz\n",
      "Please guess a letter: u\n",
      "Oops! That letter is not in my word : _ _ _ l_ \n",
      "-----------------------------------\n",
      "\n",
      "You have 3 guesses left.\n",
      "Available letters: abcdefghikmnopqrstvwxyz\n",
      "Please guess a letter: p\n",
      "Good guess : _ ppl_ \n",
      "-----------------------------------\n",
      "\n",
      "You have 3 guesses left.\n",
      "Available letters: abcdefghikmnoqrstvwxyz\n",
      "Please guess a letter: a\n",
      "Good guess : appl_ \n",
      "-----------------------------------\n",
      "\n",
      "You have 3 guesses left.\n",
      "Available letters: bcdefghikmnoqrstvwxyz\n",
      "Please guess a letter: e\n",
      "Good guess : apple\n",
      "-----------------------------------\n",
      "Congratulations, you won!\n",
      "Your total score for this game is: 8\n"
     ]
    }
   ],
   "source": [
    "secret_word = 'apple'\n",
    "hangman(secret_word)"
   ]
  }
 ],
 "metadata": {
  "kernelspec": {
   "display_name": "Python 3",
   "language": "python",
   "name": "python3"
  },
  "language_info": {
   "codemirror_mode": {
    "name": "ipython",
    "version": 3
   },
   "file_extension": ".py",
   "mimetype": "text/x-python",
   "name": "python",
   "nbconvert_exporter": "python",
   "pygments_lexer": "ipython3",
   "version": "3.8.8"
  }
 },
 "nbformat": 4,
 "nbformat_minor": 5
}
