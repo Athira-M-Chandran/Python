{
 "cells": [
  {
   "cell_type": "markdown",
   "id": "d927735f",
   "metadata": {},
   "source": [
    "### Minion Game\n",
    "----- Question from Hacker Rank\n",
    "\n",
    "Kevin and Stuart want to play the 'The Minion Game'.\n",
    "\n",
    "Game Rules\n",
    "\n",
    "Both players are given the same string, S.\n",
    "Both players have to make substrings using the letters of the string S .\n",
    "Stuart has to make words starting with consonants.\n",
    "Kevin has to make words starting with vowels.\n",
    "The game ends when both players have made all possible substrings.\n",
    "\n",
    "Scoring\n",
    "A player gets +1 point for each occurrence of the substring in the string S.\n",
    "\n",
    "For Example:\n",
    "String S = BANANA\n",
    "Kevin's vowel beginning word = ANA\n",
    "Here, ANA occurs twice in BANANA. Hence, Kevin will get 2 Points."
   ]
  },
  {
   "cell_type": "code",
   "execution_count": 1,
   "id": "0b1a72e2",
   "metadata": {},
   "outputs": [
    {
     "name": "stdout",
     "output_type": "stream",
     "text": [
      "BANANA\n",
      "Stuart 12\n"
     ]
    }
   ],
   "source": [
    "def minion_game(string):\n",
    "    kevin = 0\n",
    "    stuart = 0\n",
    "    for i in range(len(string)):\n",
    "        \n",
    "        if string[i] in ['A','E','I','O','U']:\n",
    "            kevin = kevin + (len(string)-i)\n",
    "        else :\n",
    "            stuart = stuart + (len(string)-i)\n",
    "    if(kevin > stuart):\n",
    "        print(\"Kevin\",kevin)\n",
    "    elif kevin < stuart:\n",
    "        print(\"Stuart\",stuart)\n",
    "    else:\n",
    "        print(\"Draw\")\n",
    "\n",
    "\n",
    "if __name__ == '__main__':\n",
    "    s = input()\n",
    "    minion_game(s)"
   ]
  }
 ],
 "metadata": {
  "kernelspec": {
   "display_name": "Python 3",
   "language": "python",
   "name": "python3"
  },
  "language_info": {
   "codemirror_mode": {
    "name": "ipython",
    "version": 3
   },
   "file_extension": ".py",
   "mimetype": "text/x-python",
   "name": "python",
   "nbconvert_exporter": "python",
   "pygments_lexer": "ipython3",
   "version": "3.8.8"
  }
 },
 "nbformat": 4,
 "nbformat_minor": 5
}
