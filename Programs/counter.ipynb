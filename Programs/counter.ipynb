{
 "cells": [
  {
   "cell_type": "markdown",
   "id": "3bb5026a",
   "metadata": {},
   "source": [
    "###### A counter is a container that stores elements as dictionary keys, and their counts are stored as dictionary values.\n",
    "\n",
    ">>> from collections import Counter\n",
    ">>> \n",
    ">>> myList = [1,1,2,3,4,5,3,2,3,4,2,1,2,3]\n",
    <br>
    ">>> print Counter(myList)\n",
    <br>
    "Counter({2: 4, 3: 4, 1: 3, 4: 2, 5: 1})\n",
    ">>>\n",
    <br>">>> print Counter(myList).items()\n",
    <br>"[(1, 3), (2, 4), (3, 4), (4, 2), (5, 1)]\n",
    ">>> \n",
    <br>">>> print Counter(myList).keys()\n",
    <br>"[1, 2, 3, 4, 5]\n",
    ">>> \n",
    <br>">>> print Counter(myList).values()\n",
    <br>"[3, 4, 4, 2, 1]"
   ]
  },
  {
   "cell_type": "code",
   "execution_count": 2,
   "id": "fccc1c6f",
   "metadata": {},
   "outputs": [
    {
     "name": "stdout",
     "output_type": "stream",
     "text": [
      "10\n",
      "2 3 4 5 6 8 7 6 5 18\n",
      "4\n",
      "6 50\n",
      "6 55\n",
      "6 50\n",
      "10 80\n",
      "105\n"
     ]
    }
   ],
   "source": [
    "from collections import Counter\n",
    "\n",
    "if __name__ == '__main__':\n",
    "\n",
    "    X = int(input())\n",
    "    size = Counter(map(int,input().split()))\n",
    "    C = int(input())\n",
    "    earning = 0\n",
    "    \n",
    "    for _ in range(C):\n",
    "        customer_size, price = map(int, input().split())\n",
    "        \n",
    "        if customer_size in size and size[customer_size] >0:\n",
    "            size[customer_size] -= 1\n",
    "            earning +=price\n",
    "            \n",
    "    print(earning)"
   ]
  }
 ],
 "metadata": {
  "kernelspec": {
   "display_name": "Python 3",
   "language": "python",
   "name": "python3"
  }
 },
 "nbformat": 4,
 "nbformat_minor": 5
}
