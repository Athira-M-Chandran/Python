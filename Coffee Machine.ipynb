{
 "cells": [
  {
   "cell_type": "markdown",
   "id": "71e2f20a",
   "metadata": {},
   "source": [
    "### Coffee Machine Program"
   ]
  },
  {
   "cell_type": "code",
   "execution_count": 105,
   "id": "44d4183d",
   "metadata": {},
   "outputs": [],
   "source": [
    "class coffee:\n",
    "    def __init__(self,drink,resource,machine):\n",
    "        self.drink = drink\n",
    "        self.machine = machine\n",
    "        self.resource = resource\n",
    "        \n",
    "        \n",
    "    def turn(self,condition):\n",
    "        if condition.lower() == 'off':\n",
    "            return \"Process ends!\"\n",
    "        else:\n",
    "            return coffee.report(self)\n",
    "    \n",
    "    def report(self):\n",
    "        for key,value in self.resource.items():\n",
    "            print(f\"{key} : {value}\")\n",
    "            print(' ')\n",
    "    \n",
    "    def  resources(self):\n",
    "        for i in self.machine.items():\n",
    "            if i[0] == 'Money':\n",
    "                break\n",
    "            for j in self.resource.items():\n",
    "                if i[0]==j[0]:\n",
    "                    if i[1] >= j[1]:\n",
    "                        flag = 1\n",
    "                    else:\n",
    "                        return \"Sorry there is not enough \" + i[0]\n",
    "        return \"Enough resources available\"\n",
    "    \n",
    "    def coins(self,money):\n",
    "        \n",
    "        self.machine.update({'Money': money})\n",
    "        \n",
    "        if self.resource['Money'] > self.machine['Money']:\n",
    "            self.machine.update({'Money': 0})\n",
    "            return \"Sorry that's not enough money. Money refunded.\"\n",
    "        \n",
    "        elif self.resource['Money'] < self.machine['Money']:\n",
    "            return \"Here is $\" + str(self.machine['Money'] - self.resource['Money']) + \" dollars in change.\"\n",
    "        \n",
    "        else:\n",
    "            self.machine.update({'Money': money})\n",
    "            return '$'+ str(self.machine['Money']) + ' accepted'\n",
    "    \n",
    "    def make(self):\n",
    "        \n",
    "        for i in self.machine.items():\n",
    "            for j in self.resource.items():\n",
    "                if i[0] == j[0]:\n",
    "                    self.machine.update({i[0]: i[1] - j[1]})\n",
    "        self.machine.update({\"Money\" : 0})\n",
    "        \n",
    "        return \"Here is your \"+ self.drink + \" Enjoy!\""
   ]
  },
  {
   "cell_type": "markdown",
   "id": "0b3de5bb",
   "metadata": {},
   "source": [
    "#### 1. Prompt user by asking “What would you like? (espresso/latte/cappuccino):”"
   ]
  },
  {
   "cell_type": "code",
   "execution_count": 106,
   "id": "6e445e5a",
   "metadata": {},
   "outputs": [
    {
     "name": "stdout",
     "output_type": "stream",
     "text": [
      "What would you like? (espresso/latte/cappuccino): espresso\n"
     ]
    }
   ],
   "source": [
    "\n",
    "\n",
    "\n",
    "drink = input(\"What would you like? (espresso/latte/cappuccino): \")\n",
    "if drink == 'espresso':\n",
    "    resource = {'Water' : 300 , 'Milk' : 200 , 'Coffee' : 100, 'Money' : 2}\n",
    "elif drink == 'latte':\n",
    "    resource = {'Water' : 150 , 'Milk' : 150 , 'Coffee' : 50, 'Money' : 2.50}\n",
    "elif drink == 'cappuccino':\n",
    "    resource = {'Water' : 200 , 'Milk' : 300 , 'Coffee' : 150, 'Money' : 3}\n",
    "else:\n",
    "    print(\"Sorry not in menu\")\n",
    "machine = {'Water' : 1000 , 'Milk' : 500 , 'Coffee' : 500, 'Money' : 0}\n",
    "make_coffee = coffee(drink,resource,machine)\n",
    "#make_coffee.resources()"
   ]
  },
  {
   "cell_type": "markdown",
   "id": "efe37cc7",
   "metadata": {},
   "source": [
    "#### 2. Turn off the Coffee Machine by entering “off” to the prompt"
   ]
  },
  {
   "cell_type": "code",
   "execution_count": 107,
   "id": "aa638bc6",
   "metadata": {},
   "outputs": [
    {
     "name": "stdout",
     "output_type": "stream",
     "text": [
      "Enter 'on' to continue 'off' to turnoff machine : on\n",
      "Water : 300\n",
      " \n",
      "Milk : 200\n",
      " \n",
      "Coffee : 100\n",
      " \n",
      "Money : 2\n",
      " \n"
     ]
    }
   ],
   "source": [
    "\n",
    "conditon = input(\"Enter 'on' to continue 'off' to turnoff machine : \")\n",
    "make_coffee.turn(conditon)"
   ]
  },
  {
   "cell_type": "markdown",
   "id": "1c3b901e",
   "metadata": {},
   "source": [
    "#### 3. Print report."
   ]
  },
  {
   "cell_type": "code",
   "execution_count": 108,
   "id": "b76c93ed",
   "metadata": {},
   "outputs": [
    {
     "name": "stdout",
     "output_type": "stream",
     "text": [
      "Water : 300\n",
      " \n",
      "Milk : 200\n",
      " \n",
      "Coffee : 100\n",
      " \n",
      "Money : 2\n",
      " \n"
     ]
    }
   ],
   "source": [
    "\n",
    "make_coffee.report()"
   ]
  },
  {
   "cell_type": "markdown",
   "id": "a78b4797",
   "metadata": {},
   "source": [
    "#### 4. Check resources sufficient?"
   ]
  },
  {
   "cell_type": "code",
   "execution_count": 109,
   "id": "e27102c5",
   "metadata": {},
   "outputs": [
    {
     "data": {
      "text/plain": [
       "'Enough resources available'"
      ]
     },
     "execution_count": 109,
     "metadata": {},
     "output_type": "execute_result"
    }
   ],
   "source": [
    "\n",
    "make_coffee.resources()"
   ]
  },
  {
   "cell_type": "markdown",
   "id": "0a10f801",
   "metadata": {},
   "source": [
    "#### 5. Process coins."
   ]
  },
  {
   "cell_type": "code",
   "execution_count": 110,
   "id": "ce65f767",
   "metadata": {},
   "outputs": [
    {
     "name": "stdout",
     "output_type": "stream",
     "text": [
      "Enter number of coins: 10\n",
      "Enter coin type for : quarters/dimes/nickles/pennies? quarters\n",
      "Enter no. of coins of quarters : 10\n"
     ]
    }
   ],
   "source": [
    "\n",
    "\n",
    "coin = int(input(\"Enter number of coins: \"))\n",
    "coin_list = []\n",
    "coin_count = 0\n",
    "for i in range(coin):\n",
    "    coin_type = input(\"Enter coin type for : quarters/dimes/nickles/pennies? \")\n",
    "    enter_coin = int(input(\"Enter no. of coins of \"+ coin_type+ \" : \"))\n",
    "    coin_count += enter_coin\n",
    "    if coin_type == \"quarters\":\n",
    "        coin_list.append(enter_coin * 0.25)\n",
    "    elif coin_type == \"dimes\":\n",
    "        coin_list.append(enter_coin * 0.10)\n",
    "    elif coin_type == \"nickles\":\n",
    "        coin_list.append(enter_coin * 0.05)\n",
    "    elif coin_type == \"pennies\":\n",
    "        coin_list.append(enter_coin * 0.01)\n",
    "    if coin_count == coin:\n",
    "        break\n",
    "\n",
    "\n",
    "        "
   ]
  },
  {
   "cell_type": "markdown",
   "id": "51387859",
   "metadata": {},
   "source": [
    "#### 6. Check transaction successful?    \n"
   ]
  },
  {
   "cell_type": "code",
   "execution_count": 111,
   "id": "aa749b78",
   "metadata": {},
   "outputs": [
    {
     "data": {
      "text/plain": [
       "'Here is $0.5 dollars in change.'"
      ]
     },
     "execution_count": 111,
     "metadata": {},
     "output_type": "execute_result"
    }
   ],
   "source": [
    "make_coffee.coins(sum(coin_list))   "
   ]
  },
  {
   "cell_type": "markdown",
   "id": "40b493e8",
   "metadata": {},
   "source": [
    "#### 7. Make Coffee."
   ]
  },
  {
   "cell_type": "code",
   "execution_count": 112,
   "id": "0bc26caa",
   "metadata": {},
   "outputs": [
    {
     "data": {
      "text/plain": [
       "'Here is your espresso Enjoy!'"
      ]
     },
     "execution_count": 112,
     "metadata": {},
     "output_type": "execute_result"
    }
   ],
   "source": [
    "\n",
    "make_coffee.make()\n"
   ]
  }
 ],
 "metadata": {
  "kernelspec": {
   "display_name": "Python 3",
   "language": "python",
   "name": "python3"
  },
  "language_info": {
   "codemirror_mode": {
    "name": "ipython",
    "version": 3
   },
   "file_extension": ".py",
   "mimetype": "text/x-python",
   "name": "python",
   "nbconvert_exporter": "python",
   "pygments_lexer": "ipython3",
   "version": "3.8.8"
  }
 },
 "nbformat": 4,
 "nbformat_minor": 5
}
